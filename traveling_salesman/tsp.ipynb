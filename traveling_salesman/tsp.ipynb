{
  "cells": [
    {
      "cell_type": "markdown",
      "metadata": {
        "id": "z78h6ikh8IkD"
      },
      "source": [
        "# Traveling Salesman Problem\n",
        "\n",
        "## Objective and Prerequisites\n",
        "\n",
        "In this example, you’ll learn how to tackle one of the most famous combinatorial optimization problems in existence: the Traveling Salesman Problem (TSP). The goal of the TSP – to find the shortest possible route that visits each city once and returns to the original city – is simple, but solving the problem is a complex and challenging endeavor. We’ll show you how to do it!\n",
        "\n",
        "This modeling example is at the advanced level, where we assume that you know Python and the Gurobi Python API and that you have advanced knowledge of building mathematical optimization models. Typically, the objective function and/or constraints of these examples are complex or require advanced features of the Gurobi Python API.\n",
        "\n",
        "**Download the Repository** <br />\n",
        "You can download the repository containing this and other examples by clicking [here](https://github.com/Gurobi/modeling-examples/archive/master.zip)."
      ]
    },
    {
      "cell_type": "markdown",
      "metadata": {
        "id": "zao4iBL28IkE"
      },
      "source": [
        "## Motivation\n",
        "\n",
        "The Traveling Salesman Problem (TSP) is one of the most famous combinatorial optimization problems. This problem is very easy to explain, but very complicated to solve – even for instances with a small number of cities. More detailed information on the TSP can be found in the book The Traveling Salesman Problem: A Computational Study [1], or at the TSP home page [2]. If you are interested in the history and mathematical background of the TSP, we recommend that you watch the video by William Cook [3].\n",
        "\n",
        "The origin of the traveling salesman problem is not very clear; it is mentioned in an 1832 manual for traveling salesman, which included example tours of 45 German cities but was not formulated as a mathematical problem. However, in the 1800s, mathematicians William Rowan Hamilton and Thomas Kirkman devised mathematical formulations of the problem.\n",
        "\n",
        "It seems that the general form of the Traveling Salesman Problem was first studied by Karl Menger in Vienna and Harvard in the 1930s.\n",
        "\n",
        "The problem became more and more popular in the 1950s and 1960s. In particular, George Dantzig, D. Ray Fulkerson, and Selmer M. Johnson at the RAND Corporation solved the 48-state problem by formulating it as a linear programming problem. The methods they described in their paper on this topic set the foundation for future work in combinatorial optimization, especially highlighting the importance of cutting planes.\n",
        "\n",
        "In the early 1970s, the concept of P vs. NP problems created excitement in the theoretical computer science community. In 1972, Richard Karp demonstrated that the Hamiltonian cycle problem was NP-complete, implying that the traveling salesman problem was NP-hard.\n",
        "\n",
        "Increasingly sophisticated codes led to rapid increases in the sizes of the traveling salesman problems solved. Dantzig, Fulkerson, and Johnson had solved a 48-city instance of the problem in 1954. Martin Grötschel more than doubled this 23 years later, solving a 120-city instance in 1977. Harlan Crowder and Manfred W. Padberg again more than doubled this in just 3 years, with a 318-city solution.\n",
        "\n",
        "In 1987, rapid improvements were made, culminating in a 2,392-city solution by Padberg and Giovanni Rinaldi. In the following two decades, great strides were made with David L. Applegate, Robert E. Bixby, Vasek Chvátal, & William J. Cook solving a 3,308-city instance in 1992, a 7,397-city instance in 1994, a 24,978-city instance in 2004, and an 85,900-city instance in 2006 – which is the largest 2-D Euclidean TSP instance ever solved. William Cook et. al. wrote a program called Concorde TSP Solver for solving the TSP [4]. Concorde is a computer code for the symmetric TSP and some related network optimization problems. The code is written in the ANSI C programming language and it has been used to obtain the optimal solutions to the full set of 110 TSPLIB instances, the largest instance is a 109,399 node 3-D “star” instance.\n",
        "\n",
        "The continued interest in the TSP can be explained by its success as a general engine of discovery and a steady stream of new applications. Some of the general applications of the TSP are as follows:\n",
        "* Scheduling and routing problems.\n",
        "* Genome sequencing.\n",
        "* Drilling problems.\n",
        "* Aiming telescopes and x-rays.\n",
        "* Data clustering.\n",
        "* Machine scheduling.\n",
        "\n",
        "We use this classic combinatorial optimization problem to demonstrate how Gurobi can be used to easily and effectively solve small-sized problem instances of the TSP. However, in order to be able to solve larger instances, one needs more sophisticated techniques – such as those implemented in the Concord TSP Solver."
      ]
    },
    {
      "cell_type": "markdown",
      "metadata": {
        "id": "LZ55L3PT8IkF"
      },
      "source": [
        "## Problem Description\n",
        "The TSP can be defined as follows: for a given list of cities and the distances between each pair of them, we want to find the shortest possible route that goes to each city once and returns to the origin city.\n",
        "\n",
        "There is a class of Traveling Salesman Problems that assumes that the distance of going from city $i$ to city $j$  is the same as going form city $j$ to city $i$, this type of Traveling Salesman Problem  is also known as the symmetric Traveling Salesman Problem. In this example, we use Euclidean distances, but the TSP model formulation is valid independent of the way in which the individual distances are determined.\n",
        "\n",
        "\n",
        "## Solution Approach\n",
        "\n",
        "Mathematical programming is a declarative approach where the modeler formulates a mathematical optimization model that captures the key aspects of a complex decision problem. The Gurobi Optimizer solves such models using state-of-the-art mathematics and computer science.\n",
        "\n",
        "A mathematical optimization model has five components, namely:\n",
        "\n",
        "* Sets and indices.\n",
        "* Parameters.\n",
        "* Decision variables.\n",
        "* Objective function(s).\n",
        "* Constraints.\n",
        "\n",
        "We now present a MIP formulation of the TSP that identifies the shortest route that goes to all the cities once and returns to the origin city.\n",
        "\n",
        "## TSP Model Formulation\n",
        "\n",
        "### Sets and Indices\n",
        "$i, j \\in Capitals $: indices and set of US capital cities.\n",
        "\n",
        "$\\text{Pairings}= \\{(i,j) \\in Capitals \\times Capitals \\}$: Set of allowed pairings\n",
        "\n",
        "$S \\subset Capitals$: A subset of the set of US capital cities.\n",
        "\n",
        "$G = (Capitals, Pairings)$: A graph where the set $Capitals$ defines the set of nodes and the set $Pairings$ defines the set of edges.\n",
        "\n",
        "### Parameters\n",
        "\n",
        "$d_{i, j} \\in \\mathbb{R}^+$: Distance from capital city $i$ to capital city $j$, for all $(i, j) \\in Pairings$.\n",
        "\n",
        "Notice that the distance from capital city $i$ to capital city $j$ is the same as the distance from capital city $j$ to capital city $i$, i.e. $d_{i, j} = d_{j, i}$. For this reason, this TSP is also called the symmetric Traveling Salesman Problem.\n",
        "\n",
        "### Decision Variables\n",
        "$x_{i, j} \\in \\{0, 1\\}$: This variable is equal to 1, if we decide to connect city $i$ with city $j$. Otherwise, the decision variable is equal to zero.\n",
        "\n",
        "### Objective Function\n",
        "- **Shortest Route**. Minimize the total distance of a route. A route is a sequence of capital cities where the salesperson visits each city only once and returns to the starting capital city.\n",
        "\n",
        "\\begin{equation}\n",
        "\\text{Min} \\quad Z = \\sum_{(i,j) \\in \\text{Pairings}}d_{i,j} \\cdot x_{i,j}\n",
        "\\tag{0}\n",
        "\\end{equation}\n",
        "\n",
        "### Constraints\n",
        "- **Symmetry Constraints**. For each edge $(i,j)$, ensure that the city capitals $i$ and $j$ are connected, if the former is visited immediately before or after visiting the latter.\n",
        "\n",
        "\\begin{equation}\n",
        "x_{i, j} = x_{j, i} \\quad \\forall (i, j) \\in Pairings\n",
        "\\tag{1}\n",
        "\\end{equation}\n",
        "\n",
        "- **Entering and leaving a capital city**. For each capital city $i$, ensure that this city is connected to two other cities.\n",
        "\n",
        "\\begin{equation}\n",
        "\\sum_{(i,j) \\in \\text{Pairings}}x_{i,j} = 2 \\quad \\forall  i \\in Capitals\n",
        "\\tag{2}\n",
        "\\end{equation}\n",
        "\n",
        "- **Subtour elimination**. These constraints ensure that for any subset of cities $S$ of the set of $Capitals$, there is no cycle. That is, there is no route that visits all the cities in the subset and returns to the origin city.\n",
        "\n",
        "\\begin{equation}\n",
        "\\sum_{(i \\neq j) \\in S}x_{i,j} \\leq |S|-1 \\quad \\forall  S \\subset  Capitals\n",
        "\\tag{3}\n",
        "\\end{equation}\n",
        "\n",
        "- **Remark**. In general, if the number of cities of the TSP is $n$, then the possible number of routes is n\\!.\n",
        "Since there are an exponential number of constraints ($2^{n} - 2$) to eliminate cycles, we use lazy constraints to dynamically eliminate those cycles."
      ]
    },
    {
      "cell_type": "markdown",
      "metadata": {
        "id": "Kd2ANTV38IkG"
      },
      "source": [
        "## Python Implementation\n",
        "\n",
        "Consider a salesperson that needs to visit customers at each state capital of the continental US. The salesperson wants to identify the shortest route that goes to all the state capitals.\n",
        "\n",
        "This modeling example requires the following libraries that are not part of the standard Python distribution:\n",
        "* **folium**: to create maps.\n",
        "* **gurobipy**: provides Gurobi algorithms to solve MIP models.\n"
      ]
    },
    {
      "cell_type": "markdown",
      "metadata": {
        "id": "9qWcMeKm8IkG"
      },
      "source": [
        "### Reading Input Data\n",
        "The capital names and coordinates are read from a json file."
      ]
    },
    {
      "cell_type": "code",
      "execution_count": 1,
      "metadata": {
        "id": "BldJS0wx8IkG",
        "outputId": "9c1a4ccb-f438-4ecc-cf7d-d65b5723e5b3",
        "colab": {
          "base_uri": "https://localhost:8080/"
        }
      },
      "outputs": [
        {
          "output_type": "stream",
          "name": "stdout",
          "text": [
            "Collecting gurobipy\n",
            "  Downloading gurobipy-12.0.2-cp311-cp311-manylinux2014_x86_64.manylinux_2_17_x86_64.whl.metadata (16 kB)\n",
            "Downloading gurobipy-12.0.2-cp311-cp311-manylinux2014_x86_64.manylinux_2_17_x86_64.whl (14.5 MB)\n",
            "\u001b[2K   \u001b[90m━━━━━━━━━━━━━━━━━━━━━━━━━━━━━━━━━━━━━━━━\u001b[0m \u001b[32m14.5/14.5 MB\u001b[0m \u001b[31m56.6 MB/s\u001b[0m eta \u001b[36m0:00:00\u001b[0m\n",
            "\u001b[?25hInstalling collected packages: gurobipy\n",
            "Successfully installed gurobipy-12.0.2\n"
          ]
        }
      ],
      "source": [
        "%pip install gurobipy"
      ]
    },
    {
      "cell_type": "code",
      "execution_count": 2,
      "metadata": {
        "id": "2RiX_E_E8IkH"
      },
      "outputs": [],
      "source": [
        "import json\n",
        "\n",
        "# Read capital names and coordinates from json file\n",
        "try:\n",
        "  capitals_json = json.load(open('capitals.json'))\n",
        "# when running locally the following lines can be omitted\n",
        "except:\n",
        "  import urllib.request\n",
        "  url = 'https://raw.githubusercontent.com/Gurobi/modeling-examples/master/traveling_salesman/capitals.json'\n",
        "  data = urllib.request.urlopen(url).read()\n",
        "  capitals_json = json.loads(data)\n",
        "\n",
        "capitals = []\n",
        "coordinates = {}\n",
        "for state in capitals_json:\n",
        "    if state not in ['AK', 'HI']:\n",
        "      capital = capitals_json[state]['capital']\n",
        "      capitals.append(capital)\n",
        "      coordinates[capital] = (float(capitals_json[state]['lat']), float(capitals_json[state]['long']))"
      ]
    },
    {
      "cell_type": "markdown",
      "metadata": {
        "id": "KULeeM878IkH"
      },
      "source": [
        "### Data computation\n",
        "The following function calculates the distance for each pair of state capitals. Since we are solving the _symmetric_ traveling salesman problem, we use _combinations_ of cities."
      ]
    },
    {
      "cell_type": "code",
      "execution_count": 10,
      "metadata": {
        "id": "i3nmnKY48IkH"
      },
      "outputs": [],
      "source": [
        "import math\n",
        "from itertools import combinations\n",
        "\n",
        "# Compute pairwise distance matrix\n",
        "\n",
        "def distance(city1, city2):\n",
        "    c1 = coordinates[city1]\n",
        "    c2 = coordinates[city2]\n",
        "    diff = (c1[0]-c2[0], c1[1]-c2[1])\n",
        "    return math.sqrt(diff[0]*diff[0]+diff[1]*diff[1])\n",
        "\n",
        "def angle(city1, city2, city3):\n",
        "\n",
        "    c1 = coordinates[city1]\n",
        "    c2 = coordinates[city2]\n",
        "    c3 = coordinates[city3]\n",
        "\n",
        "    # Calculate vectors\n",
        "    # Vector from city1 to city2\n",
        "    vec1 = (c2[0] - c1[0], c2[1] - c1[1])\n",
        "    # Vector from city2 to city3\n",
        "    vec2 = (c3[0] - c2[0], c3[1] - c2[1])\n",
        "\n",
        "    # Calculate angles of each vector relative to positive x-axis\n",
        "    angle1 = math.atan2(vec1[1], vec1[0])\n",
        "    angle2 = math.atan2(vec2[1], vec2[0])\n",
        "\n",
        "    # Calculate turn angle\n",
        "    turn_angle = angle2 - angle1\n",
        "\n",
        "    # Normalize to [-π, π] range\n",
        "    while turn_angle > math.pi:\n",
        "        turn_angle -= 2 * math.pi\n",
        "    while turn_angle < -math.pi:\n",
        "        turn_angle += 2 * math.pi\n",
        "\n",
        "    # Convert to degrees\n",
        "    turn_angle_degrees = math.degrees(turn_angle)\n",
        "\n",
        "    return turn_angle_degrees\n",
        "\n",
        "dist = {(c1, c2): distance(c1, c2) for c1, c2 in combinations(capitals, 2)}\n",
        "angles = {(c1, c2, c3): angle(c1, c2, c3) for c1, c2, c3 in combinations(capitals, 3)}"
      ]
    },
    {
      "cell_type": "markdown",
      "metadata": {
        "id": "ZBn6mYD48IkI"
      },
      "source": [
        "### Model Code\n",
        "We now write the model for the TSP, by defining decision variables, constraints, and objective function. Because this is the _symmetric_ traveling salesman problem, we can make it more efficient by setting the _object_ x[j,i] to x[i,j], instead of a constraint."
      ]
    },
    {
      "cell_type": "code",
      "execution_count": 14,
      "metadata": {
        "id": "-pFE1SnW8IkI"
      },
      "outputs": [],
      "source": [
        "import gurobipy as gp\n",
        "from gurobipy import GRB\n",
        "\n",
        "# tested with Python 3.7 & Gurobi 9.0.0\n",
        "\n",
        "# Create an environment with your WLS license\n",
        "params = {\n",
        "\"WLSACCESSID\": 'your wls accessid (string)',\n",
        "\"WLSSECRET\": 'your wls secret (string)',\n",
        "\"LICENSEID\": <your license id (integer)>,\n",
        "}\n",
        "\n",
        "m = gp.Model()\n",
        "\n",
        "# Variables: is city 'i' adjacent to city 'j' on the tour?\n",
        "vars = m.addVars(dist.keys(), obj=dist, vtype=GRB.BINARY, name='x')\n",
        "quad_vars = m.addVars(angles.keys(), obj=angles, vtype=GRB.BINARY, name='y')\n",
        "\n",
        "# Symmetric direction: use dict.update to alias variable with new key\n",
        "vars.update({(j,i):vars[i,j] for i,j in vars.keys()})\n",
        "quad_vars.update({(k, j, i): quad_vars[i, j, k] for i, j, k in quad_vars.keys()})\n",
        "\n",
        "# Constraints: two edges incident to each city\n",
        "cons = m.addConstrs(vars.sum(c, '*') == 2 for c in capitals)"
      ]
    },
    {
      "cell_type": "code",
      "source": [
        "# Constraints: exactly two edges incident to each city (degree constraint)\n",
        "degree_cons = m.addConstrs(vars.sum(c, '*') == 2 for c in capitals)\n",
        "\n",
        "# Constraints: link edge variables with sequence variables\n",
        "# If we use edges (i,j) and (j,k), then we must use sequence i->j->k\n",
        "link_cons = {}\n",
        "for i, j, k in angles.keys():\n",
        "    # quad_vars[i,j,k] <= vars[i,j]\n",
        "    link_cons[i,j,k,'first'] = m.addConstr(quad_vars[i,j,k] <= vars[i,j])\n",
        "    # quad_vars[i,j,k] <= vars[j,k]\n",
        "    link_cons[i,j,k,'second'] = m.addConstr(quad_vars[i,j,k] <= vars[j,k])\n",
        "    # quad_vars[i,j,k] >= vars[i,j] + vars[j,k] - 1\n",
        "    link_cons[i,j,k,'both'] = m.addConstr(quad_vars[i,j,k] >= vars[i,j] + vars[j,k] - 1)"
      ],
      "metadata": {
        "id": "8Gt3A39AE122"
      },
      "execution_count": 15,
      "outputs": []
    },
    {
      "cell_type": "markdown",
      "metadata": {
        "id": "Z5-4vyf28IkI"
      },
      "source": [
        "### Callback Definition\n",
        "Subtour constraints prevent multiple loops in a TSP tour. Because there are an exponential number of these constraints, we don't want to add them all to the model. Instead, we use a callback function to find violated subtour constraints and add them to the model as lazy constraints."
      ]
    },
    {
      "cell_type": "code",
      "execution_count": 16,
      "metadata": {
        "id": "6QQ1sZ2I8IkI"
      },
      "outputs": [],
      "source": [
        "# Callback - use lazy constraints to eliminate sub-tours\n",
        "\n",
        "def subtourelim(model, where):\n",
        "    if where == GRB.Callback.MIPSOL:\n",
        "        # make a list of edges selected in the solution\n",
        "        vals = model.cbGetSolution(model._vars)\n",
        "        selected = gp.tuplelist((i, j) for i, j in model._vars.keys()\n",
        "                             if vals[i, j] > 0.5)\n",
        "        # find the shortest cycle in the selected edge list\n",
        "        tour = subtour(selected)\n",
        "        if len(tour) < len(capitals):\n",
        "            # add subtour elimination constr. for every pair of cities in subtour\n",
        "            model.cbLazy(gp.quicksum(model._vars[i, j] for i, j in combinations(tour, 2))\n",
        "                         <= len(tour)-1)\n",
        "\n",
        "# Given a tuplelist of edges, find the shortest subtour\n",
        "\n",
        "def subtour(edges):\n",
        "    unvisited = capitals[:]\n",
        "    cycle = capitals[:] # Dummy - guaranteed to be replaced\n",
        "    while unvisited:  # true if list is non-empty\n",
        "        thiscycle = []\n",
        "        neighbors = unvisited\n",
        "        while neighbors:\n",
        "            current = neighbors[0]\n",
        "            thiscycle.append(current)\n",
        "            unvisited.remove(current)\n",
        "            neighbors = [j for i, j in edges.select(current, '*')\n",
        "                         if j in unvisited]\n",
        "        if len(thiscycle) <= len(cycle):\n",
        "            cycle = thiscycle # New shortest subtour\n",
        "    return cycle"
      ]
    },
    {
      "cell_type": "markdown",
      "metadata": {
        "id": "FLFY7mZu8IkI"
      },
      "source": [
        "## Solve the model"
      ]
    },
    {
      "cell_type": "code",
      "execution_count": 17,
      "metadata": {
        "id": "xNzOgy2l8IkI",
        "outputId": "96359e6b-62ec-4440-a2c2-8b30f895210a",
        "colab": {
          "base_uri": "https://localhost:8080/",
          "height": 402
        }
      },
      "outputs": [
        {
          "output_type": "stream",
          "name": "stdout",
          "text": [
            "Set parameter LazyConstraints to value 1\n",
            "Gurobi Optimizer version 12.0.2 build v12.0.2rc0 (linux64 - \"Ubuntu 22.04.4 LTS\")\n",
            "\n",
            "CPU model: Intel(R) Xeon(R) CPU @ 2.20GHz, instruction set [SSE2|AVX|AVX2]\n",
            "Thread count: 1 physical cores, 2 logical processors, using up to 2 threads\n",
            "\n",
            "Non-default parameters:\n",
            "LazyConstraints  1\n",
            "\n",
            "\n",
            "User-callback calls 9, time in user-callback 0.00 sec\n"
          ]
        },
        {
          "output_type": "error",
          "ename": "GurobiError",
          "evalue": "Model too large for size-limited license; visit https://gurobi.com/unrestricted for more information",
          "traceback": [
            "\u001b[0;31m---------------------------------------------------------------------------\u001b[0m",
            "\u001b[0;31mGurobiError\u001b[0m                               Traceback (most recent call last)",
            "\u001b[0;32m/tmp/ipython-input-17-3820589573.py\u001b[0m in \u001b[0;36m<cell line: 0>\u001b[0;34m()\u001b[0m\n\u001b[1;32m      1\u001b[0m \u001b[0mm\u001b[0m\u001b[0;34m.\u001b[0m\u001b[0m_vars\u001b[0m \u001b[0;34m=\u001b[0m \u001b[0mvars\u001b[0m\u001b[0;34m\u001b[0m\u001b[0;34m\u001b[0m\u001b[0m\n\u001b[1;32m      2\u001b[0m \u001b[0mm\u001b[0m\u001b[0;34m.\u001b[0m\u001b[0mParams\u001b[0m\u001b[0;34m.\u001b[0m\u001b[0mlazyConstraints\u001b[0m \u001b[0;34m=\u001b[0m \u001b[0;36m1\u001b[0m\u001b[0;34m\u001b[0m\u001b[0;34m\u001b[0m\u001b[0m\n\u001b[0;32m----> 3\u001b[0;31m \u001b[0mm\u001b[0m\u001b[0;34m.\u001b[0m\u001b[0moptimize\u001b[0m\u001b[0;34m(\u001b[0m\u001b[0msubtourelim\u001b[0m\u001b[0;34m)\u001b[0m\u001b[0;34m\u001b[0m\u001b[0;34m\u001b[0m\u001b[0m\n\u001b[0m",
            "\u001b[0;32msrc/gurobipy/_model.pyx\u001b[0m in \u001b[0;36mgurobipy._model.Model.optimize\u001b[0;34m()\u001b[0m\n",
            "\u001b[0;31mGurobiError\u001b[0m: Model too large for size-limited license; visit https://gurobi.com/unrestricted for more information"
          ]
        }
      ],
      "source": [
        "m._vars = vars\n",
        "m.Params.lazyConstraints = 1\n",
        "m.optimize(subtourelim)"
      ]
    },
    {
      "cell_type": "markdown",
      "metadata": {
        "id": "pHiAMmi48IkJ"
      },
      "source": [
        "## Analysis\n",
        "\n",
        "We retrieve the optimal solution of the TSP and verify that the optimal route (or tour) goes to all the cities and returns to the origin city."
      ]
    },
    {
      "cell_type": "code",
      "execution_count": 7,
      "metadata": {
        "id": "rRj4XvX58IkJ"
      },
      "outputs": [],
      "source": [
        "# Retrieve solution\n",
        "\n",
        "vals = m.getAttr('x', vars)\n",
        "selected = gp.tuplelist((i, j) for i, j in vals.keys() if vals[i, j] > 0.5)\n",
        "\n",
        "tour = subtour(selected)\n",
        "assert len(tour) == len(capitals)"
      ]
    },
    {
      "cell_type": "markdown",
      "metadata": {
        "id": "BvvxEB798IkJ"
      },
      "source": [
        "The optimal route is displayed in the following map."
      ]
    },
    {
      "cell_type": "code",
      "execution_count": 8,
      "metadata": {
        "id": "VkOGSOGF8IkJ",
        "outputId": "d6d43ae4-3bd4-457b-eb23-cf39712ab4ed",
        "colab": {
          "base_uri": "https://localhost:8080/",
          "height": 1000
        }
      },
      "outputs": [
        {
          "output_type": "execute_result",
          "data": {
            "text/plain": [
              "<folium.folium.Map at 0x79e49694d610>"
            ],
            "text/html": [
              "<div style=\"width:100%;\"><div style=\"position:relative;width:100%;height:0;padding-bottom:60%;\"><span style=\"color:#565656\">Make this Notebook Trusted to load map: File -> Trust Notebook</span><iframe srcdoc=\"&lt;!DOCTYPE html&gt;\n",
              "&lt;html&gt;\n",
              "&lt;head&gt;\n",
              "    \n",
              "    &lt;meta http-equiv=&quot;content-type&quot; content=&quot;text/html; charset=UTF-8&quot; /&gt;\n",
              "    &lt;script src=&quot;https://cdn.jsdelivr.net/npm/leaflet@1.9.3/dist/leaflet.js&quot;&gt;&lt;/script&gt;\n",
              "    &lt;script src=&quot;https://code.jquery.com/jquery-3.7.1.min.js&quot;&gt;&lt;/script&gt;\n",
              "    &lt;script src=&quot;https://cdn.jsdelivr.net/npm/bootstrap@5.2.2/dist/js/bootstrap.bundle.min.js&quot;&gt;&lt;/script&gt;\n",
              "    &lt;script src=&quot;https://cdnjs.cloudflare.com/ajax/libs/Leaflet.awesome-markers/2.0.2/leaflet.awesome-markers.js&quot;&gt;&lt;/script&gt;\n",
              "    &lt;link rel=&quot;stylesheet&quot; href=&quot;https://cdn.jsdelivr.net/npm/leaflet@1.9.3/dist/leaflet.css&quot;/&gt;\n",
              "    &lt;link rel=&quot;stylesheet&quot; href=&quot;https://cdn.jsdelivr.net/npm/bootstrap@5.2.2/dist/css/bootstrap.min.css&quot;/&gt;\n",
              "    &lt;link rel=&quot;stylesheet&quot; href=&quot;https://netdna.bootstrapcdn.com/bootstrap/3.0.0/css/bootstrap-glyphicons.css&quot;/&gt;\n",
              "    &lt;link rel=&quot;stylesheet&quot; href=&quot;https://cdn.jsdelivr.net/npm/@fortawesome/fontawesome-free@6.2.0/css/all.min.css&quot;/&gt;\n",
              "    &lt;link rel=&quot;stylesheet&quot; href=&quot;https://cdnjs.cloudflare.com/ajax/libs/Leaflet.awesome-markers/2.0.2/leaflet.awesome-markers.css&quot;/&gt;\n",
              "    &lt;link rel=&quot;stylesheet&quot; href=&quot;https://cdn.jsdelivr.net/gh/python-visualization/folium/folium/templates/leaflet.awesome.rotate.min.css&quot;/&gt;\n",
              "    \n",
              "            &lt;meta name=&quot;viewport&quot; content=&quot;width=device-width,\n",
              "                initial-scale=1.0, maximum-scale=1.0, user-scalable=no&quot; /&gt;\n",
              "            &lt;style&gt;\n",
              "                #map_2f09b4a7a54337fb855f5c6fb51cafb4 {\n",
              "                    position: relative;\n",
              "                    width: 100.0%;\n",
              "                    height: 100.0%;\n",
              "                    left: 0.0%;\n",
              "                    top: 0.0%;\n",
              "                }\n",
              "                .leaflet-container { font-size: 1rem; }\n",
              "            &lt;/style&gt;\n",
              "\n",
              "            &lt;style&gt;html, body {\n",
              "                width: 100%;\n",
              "                height: 100%;\n",
              "                margin: 0;\n",
              "                padding: 0;\n",
              "            }\n",
              "            &lt;/style&gt;\n",
              "\n",
              "            &lt;style&gt;#map {\n",
              "                position:absolute;\n",
              "                top:0;\n",
              "                bottom:0;\n",
              "                right:0;\n",
              "                left:0;\n",
              "                }\n",
              "            &lt;/style&gt;\n",
              "\n",
              "            &lt;script&gt;\n",
              "                L_NO_TOUCH = false;\n",
              "                L_DISABLE_3D = false;\n",
              "            &lt;/script&gt;\n",
              "\n",
              "        \n",
              "&lt;/head&gt;\n",
              "&lt;body&gt;\n",
              "    \n",
              "    \n",
              "            &lt;div class=&quot;folium-map&quot; id=&quot;map_2f09b4a7a54337fb855f5c6fb51cafb4&quot; &gt;&lt;/div&gt;\n",
              "        \n",
              "&lt;/body&gt;\n",
              "&lt;script&gt;\n",
              "    \n",
              "    \n",
              "            var map_2f09b4a7a54337fb855f5c6fb51cafb4 = L.map(\n",
              "                &quot;map_2f09b4a7a54337fb855f5c6fb51cafb4&quot;,\n",
              "                {\n",
              "                    center: [40.0, -95.0],\n",
              "                    crs: L.CRS.EPSG3857,\n",
              "                    ...{\n",
              "  &quot;zoom&quot;: 4,\n",
              "  &quot;zoomControl&quot;: true,\n",
              "  &quot;preferCanvas&quot;: false,\n",
              "}\n",
              "\n",
              "                }\n",
              "            );\n",
              "\n",
              "            \n",
              "\n",
              "        \n",
              "    \n",
              "            var tile_layer_86538e08a48f859251c6af9b9b474c84 = L.tileLayer(\n",
              "                &quot;https://tile.openstreetmap.org/{z}/{x}/{y}.png&quot;,\n",
              "                {\n",
              "  &quot;minZoom&quot;: 0,\n",
              "  &quot;maxZoom&quot;: 19,\n",
              "  &quot;maxNativeZoom&quot;: 19,\n",
              "  &quot;noWrap&quot;: false,\n",
              "  &quot;attribution&quot;: &quot;\\u0026copy; \\u003ca href=\\&quot;https://www.openstreetmap.org/copyright\\&quot;\\u003eOpenStreetMap\\u003c/a\\u003e contributors&quot;,\n",
              "  &quot;subdomains&quot;: &quot;abc&quot;,\n",
              "  &quot;detectRetina&quot;: false,\n",
              "  &quot;tms&quot;: false,\n",
              "  &quot;opacity&quot;: 1,\n",
              "}\n",
              "\n",
              "            );\n",
              "        \n",
              "    \n",
              "            tile_layer_86538e08a48f859251c6af9b9b474c84.addTo(map_2f09b4a7a54337fb855f5c6fb51cafb4);\n",
              "        \n",
              "    \n",
              "            var poly_line_0cc16c1692af65fe0776d325a0e4747f = L.polyline(\n",
              "                [[32.361538, -86.279118], [30.4518, -84.27277], [33.76, -84.39], [34.0, -81.035], [35.771, -78.638], [37.54, -77.46], [38.972945, -76.501157], [39.161921, -75.526755], [40.221741, -74.756138], [41.767, -72.677], [41.82355, -71.422132], [42.2352, -71.0275], [44.323535, -69.765261], [43.220093, -71.549127], [44.26639, -72.57194], [42.659829, -73.781339], [40.269789, -76.875613], [38.349497, -81.633294], [39.962245, -83.000647], [42.7335, -84.5467], [43.074722, -89.384444], [44.95, -93.094], [41.590939, -93.620866], [39.04, -95.69], [40.809868, -96.675345], [44.367966, -100.336378], [46.813343, -100.779004], [41.145548, -104.802042], [39.7391667, -104.984167], [40.7547, -111.892622], [46.595805, -112.027031], [43.613739, -116.237651], [47.042418, -122.893077], [44.931109, -123.029159], [38.555605, -121.468926], [39.160949, -119.753877], [33.448457, -112.073844], [35.667231, -105.964575], [35.482309, -97.534994], [30.266667, -97.75], [30.45809, -91.140229], [32.32, -90.207], [34.736009, -92.331122], [38.572954, -92.189283], [39.78325, -89.650373], [39.790942, -86.147685], [38.197274, -84.86311], [36.165, -86.784], [32.361538, -86.279118]],\n",
              "                {&quot;bubblingMouseEvents&quot;: true, &quot;color&quot;: &quot;#3388ff&quot;, &quot;dashArray&quot;: null, &quot;dashOffset&quot;: null, &quot;fill&quot;: false, &quot;fillColor&quot;: &quot;#3388ff&quot;, &quot;fillOpacity&quot;: 0.2, &quot;fillRule&quot;: &quot;evenodd&quot;, &quot;lineCap&quot;: &quot;round&quot;, &quot;lineJoin&quot;: &quot;round&quot;, &quot;noClip&quot;: false, &quot;opacity&quot;: 1.0, &quot;smoothFactor&quot;: 1.0, &quot;stroke&quot;: true, &quot;weight&quot;: 3}\n",
              "            ).addTo(map_2f09b4a7a54337fb855f5c6fb51cafb4);\n",
              "        \n",
              "&lt;/script&gt;\n",
              "&lt;/html&gt;\" style=\"position:absolute;width:100%;height:100%;left:0;top:0;border:none !important;\" allowfullscreen webkitallowfullscreen mozallowfullscreen></iframe></div></div>"
            ]
          },
          "metadata": {},
          "execution_count": 8
        }
      ],
      "source": [
        "# Map the solution\n",
        "\n",
        "import folium\n",
        "\n",
        "map = folium.Map(location=[40,-95], zoom_start = 4)\n",
        "\n",
        "points = []\n",
        "for city in tour:\n",
        "  points.append(coordinates[city])\n",
        "points.append(points[0])\n",
        "\n",
        "folium.PolyLine(points).add_to(map)\n",
        "\n",
        "map"
      ]
    },
    {
      "cell_type": "code",
      "execution_count": null,
      "metadata": {
        "id": "Ehp2vNjz8IkJ"
      },
      "outputs": [],
      "source": [
        "m.dispose()\n",
        "gp.disposeDefaultEnv()"
      ]
    },
    {
      "cell_type": "markdown",
      "metadata": {
        "id": "97wNSxHA8IkJ"
      },
      "source": [
        "## Conclusions\n",
        "\n",
        "The Traveling Salesman Problem (TSP) is the most popular combinatorial optimization problem. This problem is very easy to explain, although it is very complicated to solve. The largest TSP problem solved has 85,900 cities. The TSP is a source of discovery for new approaches to solve complex combinatorial optimization problems and has led to many applications.\n",
        "\n",
        "In this modeling example, we have shown how to formulate the symmetric Traveling Salesman Problem as a MIP problem. We also showed how to dynamically eliminate subtours by using lazy constraints."
      ]
    },
    {
      "cell_type": "markdown",
      "metadata": {
        "id": "gSbGJFPn8IkJ"
      },
      "source": [
        "## References\n",
        "\n",
        "[1] D. L. Applegate, R. E. Bixby, V. Chvatal and W. J. Cook , The Traveling Salesman Problem: A Computational Study, Princeton University Press, Princeton, 2006.\n",
        "\n",
        "[2] http://www.math.uwaterloo.ca/tsp/index.html\n",
        "\n",
        "[3] https://www.youtube.com/watch?v=q8nQTNvCrjE&t=35s\n",
        "\n",
        "[4] http://www.math.uwaterloo.ca/tsp/concorde.html"
      ]
    },
    {
      "cell_type": "markdown",
      "metadata": {
        "id": "6kgHv-Gz8IkK"
      },
      "source": [
        "Copyright © 2020 Gurobi Optimization, LLC"
      ]
    }
  ],
  "metadata": {
    "kernelspec": {
      "display_name": "Python 3 (ipykernel)",
      "language": "python",
      "name": "python3"
    },
    "language_info": {
      "codemirror_mode": {
        "name": "ipython",
        "version": 3
      },
      "file_extension": ".py",
      "mimetype": "text/x-python",
      "name": "python",
      "nbconvert_exporter": "python",
      "pygments_lexer": "ipython3",
      "version": "3.9.7"
    },
    "colab": {
      "provenance": []
    }
  },
  "nbformat": 4,
  "nbformat_minor": 0
}